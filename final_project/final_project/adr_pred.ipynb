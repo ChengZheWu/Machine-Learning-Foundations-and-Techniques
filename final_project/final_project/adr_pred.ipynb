{
 "cells": [
  {
   "cell_type": "code",
   "execution_count": 1,
   "metadata": {},
   "outputs": [],
   "source": [
    "import numpy as np\n",
    "import pandas as pd\n",
    "import time\n",
    "from sklearn.neighbors import KNeighborsRegressor\n",
    "from sklearn.ensemble import RandomForestRegressor\n",
    "from sklearn.model_selection import train_test_split\n",
    "from sklearn.metrics import mean_absolute_error"
   ]
  },
  {
   "cell_type": "code",
   "execution_count": 2,
   "metadata": {},
   "outputs": [],
   "source": [
    "df_train = pd.read_csv(\"./train.csv\")\n",
    "df_test = pd.read_csv(\"./test.csv\")"
   ]
  },
  {
   "cell_type": "code",
   "execution_count": 3,
   "metadata": {},
   "outputs": [],
   "source": [
    "def preprocessing(df, test=False):\n",
    "    if test:\n",
    "        df = df.drop(columns=[\"ID\"])\n",
    "        print(df.shape)\n",
    "    else:\n",
    "        df = df.drop(columns=[\"ID\", \"is_canceled\", \"reservation_status\", \"reservation_status_date\"])\n",
    "        print(df.shape)\n",
    "        no_stay = []\n",
    "        no_people = []\n",
    "        for i in range(len(df)):\n",
    "            if df[\"stays_in_week_nights\"].iloc[i] == 0 and df[\"stays_in_weekend_nights\"].iloc[i] == 0:\n",
    "                no_stay.append(int(i))\n",
    "            if df[\"adults\"].iloc[i] == 0 and df[\"children\"].iloc[i] == 0 and df[\"babies\"].iloc[i] == 0:\n",
    "                no_people.append(int(i))\n",
    "    #     print(len(index_stay))\n",
    "    #     print(len(index_people))\n",
    "        index_drop = np.unique(np.concatenate([no_stay, no_people], axis=0))\n",
    "        print(\"刪去%d行\" %len(index_drop))\n",
    "        df = df.drop(index_drop, axis=0)\n",
    "        print(df.shape)\n",
    "        \n",
    "    df[\"agent\"] = df[\"agent\"].astype(\"object\")\n",
    "    df[\"company\"] = df[\"company\"].astype(\"object\")\n",
    "\n",
    "    if test == False:\n",
    "        df = df[df[\"adr\"] > 0]\n",
    "        print(\"adr > 0:\", df.shape)\n",
    "    return df"
   ]
  },
  {
   "cell_type": "code",
   "execution_count": 4,
   "metadata": {},
   "outputs": [],
   "source": [
    "def mask(df):\n",
    "    df = df[df[\"adr\"] < 5000]\n",
    "    df = df[df[\"babies\"] <= 2]\n",
    "    df = df[df[\"distribution_channel\"] != \"Undefined\"]\n",
    "    return df"
   ]
  },
  {
   "cell_type": "code",
   "execution_count": 5,
   "metadata": {},
   "outputs": [
    {
     "name": "stdout",
     "output_type": "stream",
     "text": [
      "(91531, 29)\n",
      "刪去750行\n",
      "(90781, 29)\n",
      "adr > 0: (88982, 29)\n",
      "(27859, 28)\n",
      "(88974, 28) (27859, 28)\n"
     ]
    }
   ],
   "source": [
    "df_train = preprocessing(df_train)\n",
    "df_train = mask(df_train)\n",
    "df_test = preprocessing(df_test, True)\n",
    "label = df_train.pop(\"adr\")\n",
    "print(df_train.shape, df_test.shape)"
   ]
  },
  {
   "cell_type": "code",
   "execution_count": 6,
   "metadata": {},
   "outputs": [
    {
     "name": "stdout",
     "output_type": "stream",
     "text": [
      "(116833, 931)\n"
     ]
    }
   ],
   "source": [
    "df_concat = pd.concat([df_train, df_test])\n",
    "df_concat = pd.get_dummies(df_concat)\n",
    "print(df_concat.shape)"
   ]
  },
  {
   "cell_type": "code",
   "execution_count": 7,
   "metadata": {},
   "outputs": [
    {
     "name": "stdout",
     "output_type": "stream",
     "text": [
      "(88974, 931)\n",
      "(27859, 931)\n"
     ]
    }
   ],
   "source": [
    "df_train = df_concat[:88974]\n",
    "df_test = df_concat[88974:]\n",
    "print(df_train.shape)\n",
    "print(df_test.shape)"
   ]
  },
  {
   "cell_type": "code",
   "execution_count": 8,
   "metadata": {},
   "outputs": [],
   "source": [
    "df_train = df_train.fillna(0)\n",
    "df_test = df_test.fillna(0)"
   ]
  },
  {
   "cell_type": "code",
   "execution_count": 9,
   "metadata": {},
   "outputs": [
    {
     "name": "stdout",
     "output_type": "stream",
     "text": [
      "(88974, 931)\n",
      "(88974,)\n"
     ]
    }
   ],
   "source": [
    "x = df_train.values\n",
    "y = label.values\n",
    "\n",
    "print(x.shape)\n",
    "print(y.shape)"
   ]
  },
  {
   "cell_type": "code",
   "execution_count": 10,
   "metadata": {},
   "outputs": [
    {
     "name": "stdout",
     "output_type": "stream",
     "text": [
      "(71179, 931)\n",
      "(17795, 931)\n"
     ]
    }
   ],
   "source": [
    "x_train, x_val, y_train, y_val = train_test_split(x, y, test_size = 0.2, random_state=0)\n",
    "print(x_train.shape)\n",
    "print(x_val.shape)"
   ]
  },
  {
   "cell_type": "code",
   "execution_count": 11,
   "metadata": {},
   "outputs": [
    {
     "name": "stdout",
     "output_type": "stream",
     "text": [
      "5.441755233054522 11.149283447279355\n"
     ]
    }
   ],
   "source": [
    "model = RandomForestRegressor(random_state=0)\n",
    "# model = KNeighborsRegressor()\n",
    "model.fit(x_train, y_train)\n",
    "pred = model.predict(x_train)\n",
    "train_mae = mean_absolute_error(y_train, pred)\n",
    "pred = model.predict(x_val)\n",
    "val_mae = mean_absolute_error(y_val, pred)\n",
    "print(train_mae, val_mae)"
   ]
  },
  {
   "cell_type": "code",
   "execution_count": 12,
   "metadata": {},
   "outputs": [
    {
     "name": "stdout",
     "output_type": "stream",
     "text": [
      "(27859, 931)\n"
     ]
    }
   ],
   "source": [
    "x_test = df_test.values\n",
    "print(x_test.shape)"
   ]
  },
  {
   "cell_type": "code",
   "execution_count": 13,
   "metadata": {},
   "outputs": [
    {
     "name": "stdout",
     "output_type": "stream",
     "text": [
      "time: 4 m 54 s\n",
      "27859\n",
      "[ 91.92497417  69.02361009  54.97881368 ... 194.36963312  63.45910886\n",
      " 116.21736804]\n"
     ]
    }
   ],
   "source": [
    "start = time.time()\n",
    "model.fit(x, y)\n",
    "end = time.time()\n",
    "m = int((end - start) // 60)\n",
    "s = int((end - start) % 60)\n",
    "print(\"time: %d m %d s\" %(m, s))\n",
    "\n",
    "new_pred = model.predict(x_test)\n",
    "print(len(new_pred))\n",
    "print(new_pred)"
   ]
  },
  {
   "cell_type": "code",
   "execution_count": 14,
   "metadata": {},
   "outputs": [],
   "source": [
    "df_test = pd.read_csv(\"./new_test.csv\")\n",
    "final_test = df_test\n",
    "final_test.insert(loc=28, column=\"adr\", value=new_pred)\n",
    "final_test.to_csv(\"/home/data/andy/course/ML_Lin/final_test.csv\", index=0)"
   ]
  }
 ],
 "metadata": {
  "kernelspec": {
   "display_name": "Python 3",
   "language": "python",
   "name": "python3"
  },
  "language_info": {
   "codemirror_mode": {
    "name": "ipython",
    "version": 3
   },
   "file_extension": ".py",
   "mimetype": "text/x-python",
   "name": "python",
   "nbconvert_exporter": "python",
   "pygments_lexer": "ipython3",
   "version": "3.6.8"
  }
 },
 "nbformat": 4,
 "nbformat_minor": 4
}
