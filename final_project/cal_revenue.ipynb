{
 "cells": [
  {
   "cell_type": "code",
   "execution_count": 1,
   "metadata": {},
   "outputs": [],
   "source": [
    "import numpy as np\n",
    "import pandas as pd\n",
    "from sklearn.metrics import accuracy_score"
   ]
  },
  {
   "cell_type": "code",
   "execution_count": 2,
   "metadata": {},
   "outputs": [],
   "source": [
    "df_test = pd.read_csv(\"./final_test.csv\")"
   ]
  },
  {
   "cell_type": "code",
   "execution_count": 3,
   "metadata": {},
   "outputs": [],
   "source": [
    "def cal_revenue(df):\n",
    "    no_stay = []\n",
    "    no_people = []\n",
    "    for i in range(len(df)):\n",
    "        if df[\"stays_in_week_nights\"].iloc[i] == 0 and df[\"stays_in_weekend_nights\"].iloc[i] == 0:\n",
    "            no_stay.append(i)\n",
    "        if df[\"adults\"].iloc[i] == 0 and df[\"children\"].iloc[i] == 0 and df[\"babies\"].iloc[i] == 0:\n",
    "            no_people.append(i)\n",
    "    index_drop = np.unique(no_stay + no_people)\n",
    "#     print(\"刪去%d行\" %len(index_drop))\n",
    "    df = df.drop(index_drop, axis=0)\n",
    "\n",
    "    df = df[df[\"is_canceled\"] == 0]\n",
    "    df = df[df[\"adr\"] > 0]\n",
    "    \n",
    "    adr = df[\"adr\"].values\n",
    "    \n",
    "    stay_days = df[\"stays_in_week_nights\"] + df[\"stays_in_weekend_nights\"]\n",
    "    stay_days = stay_days.values\n",
    "    \n",
    "    # 生成月份對應數字的字典\n",
    "    month_name = df[\"arrival_date_month\"].unique()\n",
    "    tmp = [7, 8, 9 ,10, 11, 12, 1, 2, 3, 4, 5, 6]\n",
    "    month_num = {}\n",
    "    for i in range(len(month_name)):\n",
    "        month_num[month_name[i]] = tmp[i]\n",
    "\n",
    "    # 生成所有日期\n",
    "    num = 0\n",
    "    all_date = []\n",
    "    keys = []\n",
    "    for i in range(len(df)):\n",
    "        year = df[\"arrival_date_year\"].iloc[i]\n",
    "        month = month_num[df[\"arrival_date_month\"].iloc[i]]\n",
    "        day = df[\"arrival_date_day_of_month\"].iloc[i]\n",
    "        date = \"%d-%02d-%02d\" %(year, month, day)\n",
    "        keys.append(date)\n",
    "        if date not in all_date:\n",
    "                all_date.append(date)\n",
    "                \n",
    "    all_adr = []\n",
    "    all_day = []\n",
    "    for i in range((len(all_date))):\n",
    "        adr_day = 0\n",
    "        for j in range(len(keys)):\n",
    "            if keys[j] == all_date[i]:\n",
    "                adr_day = adr_day + (adr[j]*stay_days[j])\n",
    "        all_adr.append(adr_day)\n",
    "    all_adr = np.array(all_adr)\n",
    "    \n",
    "    all_revenue = []\n",
    "    for i in range(len(all_adr)):\n",
    "        revenue = all_adr[i] / 10000\n",
    "        revenue = int(revenue)\n",
    "        if revenue >= 9:\n",
    "            revenue = 9\n",
    "        if revenue <= 0:\n",
    "            revenue = 0\n",
    "        all_revenue.append(revenue)\n",
    "    all_revenue = np.array(all_revenue)\n",
    "    return all_revenue"
   ]
  },
  {
   "cell_type": "code",
   "execution_count": 4,
   "metadata": {},
   "outputs": [
    {
     "name": "stdout",
     "output_type": "stream",
     "text": [
      "(153,)\n",
      "[2 2 4 2 3 2 2 4 4 3 3 2 4 4 3 3 4 2 2 2 3 3 3 3 1 1 2 5 5 3 4 4 3 3 4 4 3\n",
      " 4 3 3 4 3 3 4 3 3 3 4 3 3 4 4 2 3 5 3 2 4 3 2 2 4 5 5 4 5 3 2 4 4 4 6 4 3\n",
      " 3 4 3 5 4 4 4 4 3 3 4 4 4 3 3 3 4 6 4 6 5 3 4 4 5 6 6 6 4 5 5 8 6 8 5 3 4\n",
      " 4 6 6 8 5 5 5 5 8 5 6 6 6 7 6 6 7 9 4 5 5 4 8 6 6 5 6 7 6 6 7 6 4 5 5 5 7\n",
      " 5 8 3 3 4]\n"
     ]
    }
   ],
   "source": [
    "revenue = cal_revenue(df_test)\n",
    "print(revenue.shape)\n",
    "print(revenue)"
   ]
  },
  {
   "cell_type": "code",
   "execution_count": 5,
   "metadata": {},
   "outputs": [],
   "source": [
    "test_label = pd.read_csv(\"./test_nolabel.csv\")\n",
    "new_pred = test_label.copy()\n",
    "new_pred.insert(loc=1, column=\"label\", value=revenue)\n",
    "new_pred.to_csv(\"/home/data/andy/course/ML_Lin/new_pred.csv\", index=0)"
   ]
  }
 ],
 "metadata": {
  "kernelspec": {
   "display_name": "Python 3",
   "language": "python",
   "name": "python3"
  },
  "language_info": {
   "codemirror_mode": {
    "name": "ipython",
    "version": 3
   },
   "file_extension": ".py",
   "mimetype": "text/x-python",
   "name": "python",
   "nbconvert_exporter": "python",
   "pygments_lexer": "ipython3",
   "version": "3.6.8"
  }
 },
 "nbformat": 4,
 "nbformat_minor": 4
}
